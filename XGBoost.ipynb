{
  "nbformat": 4,
  "nbformat_minor": 0,
  "metadata": {
    "colab": {
      "name": "XGBoost.ipynb",
      "provenance": [],
      "collapsed_sections": [],
      "mount_file_id": "1fxY-wJep9UOgISMdar7SX0Gnn-q3AZ8-",
      "authorship_tag": "ABX9TyOV09GQnXS7KWksLkymFWkm",
      "include_colab_link": true
    },
    "kernelspec": {
      "display_name": "Python 3",
      "name": "python3"
    },
    "language_info": {
      "name": "python"
    }
  },
  "cells": [
    {
      "cell_type": "markdown",
      "metadata": {
        "id": "view-in-github",
        "colab_type": "text"
      },
      "source": [
        "<a href=\"https://colab.research.google.com/github/jagjot29/Mini-Project/blob/main/XGBoost.ipynb\" target=\"_parent\"><img src=\"https://colab.research.google.com/assets/colab-badge.svg\" alt=\"Open In Colab\"/></a>"
      ]
    },
    {
      "cell_type": "code",
      "metadata": {
        "collapsed": true,
        "id": "rz7dYv6oPO7F"
      },
      "source": [
        "!pip install streamlit --quiet\n",
        "!pip install pyngrok==4.1.1 --quiet\n",
        "from pyngrok import ngrok\n",
        "!pip install joblib --quiet"
      ],
      "execution_count": null,
      "outputs": []
    },
    {
      "cell_type": "code",
      "metadata": {
        "id": "yfGt2GIqHSkG"
      },
      "source": [
        "%%writefile xg_boost_app.py\n",
        "import streamlit as st\n",
        "import os\n",
        "import numpy as np\n",
        "import pandas as pd\n",
        "import matplotlib.pyplot as plt\n",
        "from skimage.io import imread\n",
        "from skimage.transform import resize\n",
        "import pickle\n",
        "from PIL import Image\n",
        "from sklearn.model_selection import GridSearchCV \n",
        "from sklearn import svm\n",
        "from sklearn.model_selection import train_test_split\n",
        "from sklearn.preprocessing import MinMaxScaler\n",
        "from sklearn.svm import SVC\n",
        "from sklearn.metrics import confusion_matrix,accuracy_score,classification_report\n",
        "from xgboost import XGBClassifier\n",
        "import xgboost as xgb\n",
        "\n",
        "datadir = '/content/drive/MyDrive/Minor Project/Images'\n",
        "\n",
        "categories = ['animals' , 'birds'] # Name the folder with these categories\n",
        "target = []\n",
        "flat_data = []\n",
        "images = []\n",
        "\n",
        "for i in categories:\n",
        "  class_num = categories.index(i)\n",
        "  path = os.path.join(datadir,i)\n",
        "\n",
        "  for img in os.listdir(path):\n",
        "    \n",
        "    img_array = imread(os.path.join(path,img))\n",
        "\n",
        "    img_resize = resize(img_array,(150,150,3)) # Value gets converted 0-1 from 0-255\n",
        "    flat_data.append(img_resize.flatten())\n",
        "    images.append(img_resize)\n",
        "    target.append(class_num)\n",
        "    \n",
        "\n",
        "flat_data = np.array(flat_data)\n",
        "target = np.array(target)\n",
        "images = np.array(images)\n",
        "\n",
        "x_train,x_test,y_train,y_test = train_test_split(flat_data,target,test_size=0.3,random_state=0)\n",
        "\n",
        "param_grid = {'C':[0.1,1,10,100],\n",
        "              'kernel':['linear','rbf']}\n",
        "\n",
        "\n",
        "grid = GridSearchCV(SVC(),param_grid,cv=3)\n",
        "grid.fit(x_train,y_train)\n",
        "\n",
        "\n",
        "st.set_option('deprecation.showfileUploaderEncoding', False)\n",
        "st.title('Image Classifier using XGBoost')\n",
        "st.text('Upload the Image')\n",
        "\n",
        "\n",
        "uploaded_file = st.file_uploader(\"Choose an image...\",type=\"jpg\")\n",
        "if uploaded_file is not None :\n",
        "  img = Image.open(uploaded_file)\n",
        "  st.image(img,caption='Uploaded Image')\n",
        "\n",
        "  if st.button('PREDICT') :\n",
        "    st.write('Result...')\n",
        "    CATEGORIES = ['animals','birds']\n",
        "    flat_data=[]\n",
        "    img = np.array(img)\n",
        "    img_resized = resize(img,(150,150,3))\n",
        "    flat_data.append(img_resized.flatten())\n",
        "    flat_data = np.array(flat_data)\n",
        "\n",
        "    scaler = MinMaxScaler()\n",
        "    x_train = scaler.fit_transform(x_train)\n",
        "    x_test = scaler.transform(flat_data)\n",
        "\n",
        "\n",
        "    model = XGBClassifier()\n",
        "    model.fit(x_train,y_train)\n",
        "  \n",
        "    y_pred = model.predict(x_test)\n",
        "\n",
        "\n",
        "\n",
        "    y_predict = CATEGORIES[y_pred[0]]\n",
        "    \n",
        "    st.title(f' PREDICTED OUTPUT: {y_predict}')\n",
        "    q = model.predict_proba(flat_data)\n",
        "\n",
        "    for index, item in enumerate(CATEGORIES) :\n",
        "      st.write(f'{item} : {q[0][index]*100}%')\n"
      ],
      "execution_count": null,
      "outputs": []
    },
    {
      "cell_type": "code",
      "metadata": {
        "id": "mU3r_627GS4d"
      },
      "source": [
        "!nohup streamlit run xg_boost_app.py &\n",
        "\n",
        "url = ngrok.connect(port='8501')\n",
        "url"
      ],
      "execution_count": null,
      "outputs": []
    }
  ]
}